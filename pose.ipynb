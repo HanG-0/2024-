{
 "cells": [
  {
   "cell_type": "code",
   "execution_count": null,
   "metadata": {},
   "outputs": [],
   "source": [
    "import matplotlib.pyplot as plt\n",
    "\n",
    "import cv2\n",
    "import numpy as np\n",
    "import os\n",
    "from keras_facenet import FaceNet"
   ]
  },
  {
   "cell_type": "markdown",
   "metadata": {},
   "source": [
    "# crossPose database 一个人脸图像数据集\n",
    "\n",
    "共一个文件夹，一共11652个图片。每个图片的命名格式为：\n",
    "\"人名_x.jpg\"\" 注意：人名中可能也有下划线。例如：Aaron_Peirsol_1.jpg，\n",
    "\n",
    "其中，数字1代表人脸的正脸像，可以作为标签读取，2及更大值代表图片旋转或者人物侧脸等复杂姿势的人脸。人脸识别模型facenet，可以实现人脸图片到特征向量的转换，\n",
    "先读取后缀为1的图片保存为特征向量，标签为人名，然后读取后缀为2（不同姿势的图片）生成特征向量，计算和之前图片的特征向量的距离，得到最小值对应的人名，看看是否和该图片相同，相同则预测成功。最后计算准确率"
   ]
  },
  {
   "cell_type": "code",
   "execution_count": null,
   "metadata": {},
   "outputs": [],
   "source": [
    "# 初始化人脸识别模型\n",
    "poseModel = FaceNet()\n",
    "\n",
    "# 数据集路径\n",
    "data_path = './cp-aligned'  # 替换为你的实际数据集路径\n",
    "\n",
    "# 存储特征向量和标签\n",
    "features_dict = {}\n",
    "\n",
    "# 读取后缀为 0001 的图片，生成特征向量并保存\n",
    "for filename in os.listdir(data_path):\n",
    "    if filename.endswith(\"1.jpg\"):\n",
    "        name = filename.rsplit('_',1)[0]  # 提取人名\n",
    "        img_path = os.path.join(data_path, filename)\n",
    "        img = cv2.imread(img_path)\n",
    "        img = cv2.resize(img, (160, 160),cv2.INTER_LANCZOS4)  # 调整为160x160\n",
    "        img = np.expand_dims(img, axis=0)  # 添加批次维度\n",
    "        \n",
    "        embedding = poseModel.embeddings(img)\n",
    "        features_dict[name] = embedding  # 用人名作为键\n",
    "\n",
    "# 现在读取后缀为 0002 的图片并进行相似度比较\n",
    "correct_predictions = 0\n",
    "total_images = 0\n",
    "\n",
    "for filename in os.listdir(data_path):\n",
    "    if not filename.endswith(\"1.jpg\"):\n",
    "        name =filename.rsplit('_',1)[0]  # 提取人名\n",
    "        img_path = os.path.join(data_path, filename)\n",
    "        img = cv2.imread(img_path)\n",
    "        img = cv2.resize(img, (160, 160),cv2.INTER_LANCZOS4)  # 调整为160x160\n",
    "        img = np.expand_dims(img, axis=0)  # 添加批次维度\n",
    "        \n",
    "        embedding = poseModel.embeddings(img)\n",
    "\n",
    "        # 计算与所有 1 图片的距离\n",
    "        distances = {}\n",
    "        for label, feature in features_dict.items():\n",
    "            distance = np.linalg.norm(embedding - feature)  # 使用 L2 范数计算距离\n",
    "            distances[label] = distance\n",
    "        \n",
    "        # 找到距离最小的人名\n",
    "        closest_name = min(distances, key=distances.get)\n",
    "\n",
    "        # 比较是否与当前图片的人名相同\n",
    "        if closest_name == name:\n",
    "            correct_predictions += 1\n",
    "        \n",
    "        total_images += 1\n",
    "        "
   ]
  },
  {
   "cell_type": "code",
   "execution_count": null,
   "metadata": {},
   "outputs": [],
   "source": [
    "# 计算准确率\n",
    "if total_images > 0:\n",
    "    accuracy = correct_predictions / total_images\n",
    "    print(f'准确率: {accuracy:.2%}')\n",
    "else:\n",
    "    print('没有可测试的图片。')"
   ]
  }
 ],
 "metadata": {
  "kernelspec": {
   "display_name": "base",
   "language": "python",
   "name": "python3"
  },
  "language_info": {
   "name": "python",
   "version": "3.12.7"
  }
 },
 "nbformat": 4,
 "nbformat_minor": 2
}
